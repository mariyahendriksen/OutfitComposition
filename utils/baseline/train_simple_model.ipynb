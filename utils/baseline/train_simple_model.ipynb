{
 "cells": [
  {
   "cell_type": "markdown",
   "metadata": {},
   "source": [
    "This notebook creates a very simple model for generating outfits. This is sligth better than a random model. It computes the most popular category combinations in the outfits dataset and sort the candidate items, by this category combination pupularity.\n",
    "\n",
    "This script takes less than 5 minutes to run"
   ]
  },
  {
   "cell_type": "markdown",
   "metadata": {},
   "source": [
    "# Train - Computation of the category combinations"
   ]
  },
  {
   "cell_type": "code",
   "execution_count": null,
   "metadata": {},
   "outputs": [],
   "source": [
    "import datetime\n",
    "print(datetime.datetime.now())"
   ]
  },
  {
   "cell_type": "code",
   "execution_count": null,
   "metadata": {},
   "outputs": [],
   "source": [
    "import pandas as pd\n",
    "\n",
    "full_outfits = pd.read_parquet(\"../data/manual_outfits.parquet\")\n",
    "full_outfits.head()"
   ]
  },
  {
   "cell_type": "code",
   "execution_count": null,
   "metadata": {},
   "outputs": [],
   "source": [
    "items_metadata = pd.read_parquet(\"../data/products.parquet\")\n",
    "items_metadata = items_metadata[[\"product_id\", \"product_category\"]]\n",
    "items_metadata.set_index(\"product_id\", inplace=True)\n",
    "items_metadata.head()"
   ]
  },
  {
   "cell_type": "code",
   "execution_count": null,
   "metadata": {},
   "outputs": [],
   "source": [
    "outfits_category = full_outfits.explode(column=\"products\")\n",
    "outfits_category = outfits_category.merge(\n",
    "    items_metadata,\n",
    "    left_on=\"products\",\n",
    "    right_on=items_metadata.index,\n",
    "    how=\"inner\"\n",
    ")\n",
    "outfits_category.rename(columns={\"product_category\": \"categories\"}, inplace=True)\n",
    "outfits_category.head()"
   ]
  },
  {
   "cell_type": "code",
   "execution_count": null,
   "metadata": {},
   "outputs": [],
   "source": [
    "outfits_category = outfits_category.groupby(\"outfit_id\").agg({\"categories\": list, \"products\": list})\n",
    "outfits_category.reset_index(inplace=True)\n",
    "\n",
    "outfits_category[\"categories_sorted\"] = outfits_category.apply(lambda row: frozenset(row[\"categories\"]), axis=1)\n",
    "outfits_category.head()"
   ]
  },
  {
   "cell_type": "code",
   "execution_count": null,
   "metadata": {},
   "outputs": [],
   "source": [
    "from collections import Counter, defaultdict\n",
    "\n",
    "categories_sets = Counter(outfits_category.categories_sorted.values)\n",
    "toy_model = {\n",
    "    \"items_metadata\": items_metadata,\n",
    "    \"categories_sets\": categories_sets\n",
    "}"
   ]
  },
  {
   "cell_type": "markdown",
   "metadata": {},
   "source": [
    "# Predict - Using the category sets to rank the candidates"
   ]
  },
  {
   "cell_type": "markdown",
   "metadata": {},
   "source": [
    "### Use the file name generatad by evaluation/simple_split_dataset.ipynb here"
   ]
  },
  {
   "cell_type": "code",
   "execution_count": null,
   "metadata": {},
   "outputs": [],
   "source": [
    "incomplete_outfits_input = \"../data/manual_outfits_testinput_1651167032.parquet\""
   ]
  },
  {
   "cell_type": "code",
   "execution_count": null,
   "metadata": {},
   "outputs": [],
   "source": [
    "test_outfits = pd.read_parquet(incomplete_outfits_input)\n",
    "test_outfits.head()"
   ]
  },
  {
   "cell_type": "code",
   "execution_count": null,
   "metadata": {},
   "outputs": [],
   "source": [
    "def predict(model, incomplete_outfit, candidates):\n",
    "    \"\"\"\n",
    "    This is the core of your model. In our example, we are going to use the toy model we build in the first part \n",
    "    of this notebook, but you are free to create your amazing model and use it here.\n",
    "    Arguments:\n",
    "        model: the outfits model\n",
    "        incomplete_outfit: a list of product_id containing the outfit we want to complete\n",
    "        candidates: a list of product_id that you are tasked to select the rigth product to complete the outfit\n",
    "    Return\n",
    "        A list of product_id sorted according your model\n",
    "    \"\"\"\n",
    "    scores = []\n",
    "    for candidate in candidates:\n",
    "        outfit = incomplete_outfit + [candidate]\n",
    "        try:\n",
    "            categories = model[\"items_metadata\"].loc[outfit][\"product_category\"].tolist()\n",
    "            score = model[\"categories_sets\"].get(frozenset(categories), 0)\n",
    "        except KeyError:\n",
    "            score = 0\n",
    "        scores.append((score, candidate))\n",
    "    return [\n",
    "        candidate\n",
    "        for _, candidate in sorted(scores, reverse=True)\n",
    "    ]\n",
    "\n",
    "test_outfits[\"predicted_products\"] = test_outfits.apply(lambda row: predict(toy_model, row[\"incomplete_outfit\"], row[\"candidates\"]), axis=1)\n",
    "test_outfits[\"predicted_product\"] = test_outfits.apply(lambda row: row[\"predicted_products\"][0], axis=1)\n",
    "test_outfits.head()"
   ]
  },
  {
   "cell_type": "code",
   "execution_count": null,
   "metadata": {},
   "outputs": [],
   "source": [
    "output_name = incomplete_outfits_input.replace(\".parquet\", \"_predictions.csv\")\n",
    "output_columns = [\"outfit_id\", \"predicted_product\"]\n",
    "test_outfits[output_columns].to_csv(output_name, header=True, index=False)"
   ]
  },
  {
   "cell_type": "code",
   "execution_count": null,
   "metadata": {},
   "outputs": [],
   "source": [
    "print(datetime.datetime.now())"
   ]
  }
 ],
 "metadata": {
  "hide_input": false,
  "kernelspec": {
   "display_name": "Python 3 (ipykernel)",
   "language": "python",
   "name": "python3"
  },
  "language_info": {
   "codemirror_mode": {
    "name": "ipython",
    "version": 3
   },
   "file_extension": ".py",
   "mimetype": "text/x-python",
   "name": "python",
   "nbconvert_exporter": "python",
   "pygments_lexer": "ipython3",
   "version": "3.8.0"
  }
 },
 "nbformat": 4,
 "nbformat_minor": 4
}
