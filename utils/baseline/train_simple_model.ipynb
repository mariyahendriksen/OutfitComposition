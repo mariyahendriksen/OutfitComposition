{
 "cells": [
  {
   "cell_type": "markdown",
   "metadata": {
    "pycharm": {
     "name": "#%% md\n"
    }
   },
   "source": [
    "This notebook creates a very simple model for generating outfits. This is sligth better than a random model. It computes the most popular category combinations in the outfits dataset and sort the candidate items, by this category combination pupularity.\n",
    "\n",
    "This script takes less than 5 minutes to run"
   ]
  },
  {
   "cell_type": "markdown",
   "metadata": {
    "pycharm": {
     "name": "#%% md\n"
    }
   },
   "source": [
    "# Train - Computation of the category combinations"
   ]
  },
  {
   "cell_type": "code",
   "execution_count": 2,
   "metadata": {
    "pycharm": {
     "name": "#%%\n"
    }
   },
   "outputs": [
    {
     "name": "stdout",
     "output_type": "stream",
     "text": [
      "2022-05-05 12:16:57.702908\n"
     ]
    }
   ],
   "source": [
    "import datetime\n",
    "print(datetime.datetime.now())"
   ]
  },
  {
   "cell_type": "code",
   "execution_count": 3,
   "metadata": {
    "pycharm": {
     "name": "#%%\n"
    }
   },
   "outputs": [
    {
     "data": {
      "text/plain": "                                            products  outfit_id\n0  [15360881, 15379678, 15781925, 16204075, 16260...          0\n1  [13893589, 13893721, 15426616, 16035469, 17173...          1\n2  [13508028, 14161732, 16160567, 17484491, 17503...          2\n3  [16127776, 16756133, 17040752, 18203427, 18205...          3\n4                     [14480467, 15487690, 17257765]          4",
      "text/html": "<div>\n<style scoped>\n    .dataframe tbody tr th:only-of-type {\n        vertical-align: middle;\n    }\n\n    .dataframe tbody tr th {\n        vertical-align: top;\n    }\n\n    .dataframe thead th {\n        text-align: right;\n    }\n</style>\n<table border=\"1\" class=\"dataframe\">\n  <thead>\n    <tr style=\"text-align: right;\">\n      <th></th>\n      <th>products</th>\n      <th>outfit_id</th>\n    </tr>\n  </thead>\n  <tbody>\n    <tr>\n      <th>0</th>\n      <td>[15360881, 15379678, 15781925, 16204075, 16260...</td>\n      <td>0</td>\n    </tr>\n    <tr>\n      <th>1</th>\n      <td>[13893589, 13893721, 15426616, 16035469, 17173...</td>\n      <td>1</td>\n    </tr>\n    <tr>\n      <th>2</th>\n      <td>[13508028, 14161732, 16160567, 17484491, 17503...</td>\n      <td>2</td>\n    </tr>\n    <tr>\n      <th>3</th>\n      <td>[16127776, 16756133, 17040752, 18203427, 18205...</td>\n      <td>3</td>\n    </tr>\n    <tr>\n      <th>4</th>\n      <td>[14480467, 15487690, 17257765]</td>\n      <td>4</td>\n    </tr>\n  </tbody>\n</table>\n</div>"
     },
     "execution_count": 3,
     "metadata": {},
     "output_type": "execute_result"
    }
   ],
   "source": [
    "import pandas as pd\n",
    "\n",
    "full_outfits = pd.read_parquet(\"../data/manual_outfits.parquet\")\n",
    "full_outfits.head()"
   ]
  },
  {
   "cell_type": "code",
   "execution_count": 4,
   "metadata": {
    "pycharm": {
     "name": "#%%\n"
    }
   },
   "outputs": [
    {
     "data": {
      "text/plain": "               product_category\nproduct_id                     \n17073270               Knitwear\n17674562               Knitwear\n17678603               Knitwear\n17179699               Knitwear\n15907453    Sweaters & Knitwear",
      "text/html": "<div>\n<style scoped>\n    .dataframe tbody tr th:only-of-type {\n        vertical-align: middle;\n    }\n\n    .dataframe tbody tr th {\n        vertical-align: top;\n    }\n\n    .dataframe thead th {\n        text-align: right;\n    }\n</style>\n<table border=\"1\" class=\"dataframe\">\n  <thead>\n    <tr style=\"text-align: right;\">\n      <th></th>\n      <th>product_category</th>\n    </tr>\n    <tr>\n      <th>product_id</th>\n      <th></th>\n    </tr>\n  </thead>\n  <tbody>\n    <tr>\n      <th>17073270</th>\n      <td>Knitwear</td>\n    </tr>\n    <tr>\n      <th>17674562</th>\n      <td>Knitwear</td>\n    </tr>\n    <tr>\n      <th>17678603</th>\n      <td>Knitwear</td>\n    </tr>\n    <tr>\n      <th>17179699</th>\n      <td>Knitwear</td>\n    </tr>\n    <tr>\n      <th>15907453</th>\n      <td>Sweaters &amp; Knitwear</td>\n    </tr>\n  </tbody>\n</table>\n</div>"
     },
     "execution_count": 4,
     "metadata": {},
     "output_type": "execute_result"
    }
   ],
   "source": [
    "items_metadata = pd.read_parquet(\"../data/products.parquet\")\n",
    "items_metadata = items_metadata[[\"product_id\", \"product_category\"]]\n",
    "items_metadata.set_index(\"product_id\", inplace=True)\n",
    "items_metadata.head()"
   ]
  },
  {
   "cell_type": "code",
   "execution_count": 5,
   "metadata": {
    "pycharm": {
     "name": "#%%\n"
    }
   },
   "outputs": [
    {
     "data": {
      "text/plain": "   products  outfit_id categories\n0  15360881          0   Trainers\n1  15360881        716   Trainers\n2  15360881        977   Trainers\n3  15360881       1069   Trainers\n4  15360881       1186   Trainers",
      "text/html": "<div>\n<style scoped>\n    .dataframe tbody tr th:only-of-type {\n        vertical-align: middle;\n    }\n\n    .dataframe tbody tr th {\n        vertical-align: top;\n    }\n\n    .dataframe thead th {\n        text-align: right;\n    }\n</style>\n<table border=\"1\" class=\"dataframe\">\n  <thead>\n    <tr style=\"text-align: right;\">\n      <th></th>\n      <th>products</th>\n      <th>outfit_id</th>\n      <th>categories</th>\n    </tr>\n  </thead>\n  <tbody>\n    <tr>\n      <th>0</th>\n      <td>15360881</td>\n      <td>0</td>\n      <td>Trainers</td>\n    </tr>\n    <tr>\n      <th>1</th>\n      <td>15360881</td>\n      <td>716</td>\n      <td>Trainers</td>\n    </tr>\n    <tr>\n      <th>2</th>\n      <td>15360881</td>\n      <td>977</td>\n      <td>Trainers</td>\n    </tr>\n    <tr>\n      <th>3</th>\n      <td>15360881</td>\n      <td>1069</td>\n      <td>Trainers</td>\n    </tr>\n    <tr>\n      <th>4</th>\n      <td>15360881</td>\n      <td>1186</td>\n      <td>Trainers</td>\n    </tr>\n  </tbody>\n</table>\n</div>"
     },
     "execution_count": 5,
     "metadata": {},
     "output_type": "execute_result"
    }
   ],
   "source": [
    "outfits_category = full_outfits.explode(column=\"products\")\n",
    "outfits_category = outfits_category.merge(\n",
    "    items_metadata,\n",
    "    left_on=\"products\",\n",
    "    right_on=items_metadata.index,\n",
    "    how=\"inner\"\n",
    ")\n",
    "outfits_category.rename(columns={\"product_category\": \"categories\"}, inplace=True)\n",
    "outfits_category.head()"
   ]
  },
  {
   "cell_type": "code",
   "execution_count": 6,
   "metadata": {
    "pycharm": {
     "name": "#%%\n"
    }
   },
   "outputs": [
    {
     "data": {
      "text/plain": "   outfit_id                                         categories  \\\n0          0  [Trainers, Shirts, Jackets, Clutch Bags, Trous...   \n1          1  [Necklaces, Necklaces, Necklaces, Earrings, Sa...   \n2          2  [Earrings, Trainers, Trousers, Tops, Satchels ...   \n3          3        [Denim, Earrings, Pumps, All in One, Coats]   \n4          4     [Trainers, Shoulder Bags, Sweaters & Knitwear]   \n\n                                            products  \\\n0  [15360881, 15379678, 15781925, 16204075, 16260...   \n1  [13893589, 13893721, 15426616, 16035469, 17173...   \n2  [13508028, 14161732, 16160567, 17484491, 17503...   \n3  [16127776, 16756133, 17040752, 18203427, 18205...   \n4                     [14480467, 15487690, 17257765]   \n\n                                   categories_sorted  \n0  (Trousers, Trainers, Clutch Bags, Jackets, Shi...  \n1            (Earrings, Jackets, Necklaces, Sandals)  \n2  (Trousers, Trainers, Satchels & Cross Body Bag...  \n3        (Denim, Coats, Pumps, All in One, Earrings)  \n4     (Sweaters & Knitwear, Trainers, Shoulder Bags)  ",
      "text/html": "<div>\n<style scoped>\n    .dataframe tbody tr th:only-of-type {\n        vertical-align: middle;\n    }\n\n    .dataframe tbody tr th {\n        vertical-align: top;\n    }\n\n    .dataframe thead th {\n        text-align: right;\n    }\n</style>\n<table border=\"1\" class=\"dataframe\">\n  <thead>\n    <tr style=\"text-align: right;\">\n      <th></th>\n      <th>outfit_id</th>\n      <th>categories</th>\n      <th>products</th>\n      <th>categories_sorted</th>\n    </tr>\n  </thead>\n  <tbody>\n    <tr>\n      <th>0</th>\n      <td>0</td>\n      <td>[Trainers, Shirts, Jackets, Clutch Bags, Trous...</td>\n      <td>[15360881, 15379678, 15781925, 16204075, 16260...</td>\n      <td>(Trousers, Trainers, Clutch Bags, Jackets, Shi...</td>\n    </tr>\n    <tr>\n      <th>1</th>\n      <td>1</td>\n      <td>[Necklaces, Necklaces, Necklaces, Earrings, Sa...</td>\n      <td>[13893589, 13893721, 15426616, 16035469, 17173...</td>\n      <td>(Earrings, Jackets, Necklaces, Sandals)</td>\n    </tr>\n    <tr>\n      <th>2</th>\n      <td>2</td>\n      <td>[Earrings, Trainers, Trousers, Tops, Satchels ...</td>\n      <td>[13508028, 14161732, 16160567, 17484491, 17503...</td>\n      <td>(Trousers, Trainers, Satchels &amp; Cross Body Bag...</td>\n    </tr>\n    <tr>\n      <th>3</th>\n      <td>3</td>\n      <td>[Denim, Earrings, Pumps, All in One, Coats]</td>\n      <td>[16127776, 16756133, 17040752, 18203427, 18205...</td>\n      <td>(Denim, Coats, Pumps, All in One, Earrings)</td>\n    </tr>\n    <tr>\n      <th>4</th>\n      <td>4</td>\n      <td>[Trainers, Shoulder Bags, Sweaters &amp; Knitwear]</td>\n      <td>[14480467, 15487690, 17257765]</td>\n      <td>(Sweaters &amp; Knitwear, Trainers, Shoulder Bags)</td>\n    </tr>\n  </tbody>\n</table>\n</div>"
     },
     "execution_count": 6,
     "metadata": {},
     "output_type": "execute_result"
    }
   ],
   "source": [
    "outfits_category = outfits_category.groupby(\"outfit_id\").agg({\"categories\": list, \"products\": list})\n",
    "outfits_category.reset_index(inplace=True)\n",
    "\n",
    "outfits_category[\"categories_sorted\"] = outfits_category.apply(lambda row: frozenset(row[\"categories\"]), axis=1)\n",
    "outfits_category.head()"
   ]
  },
  {
   "cell_type": "code",
   "execution_count": 7,
   "metadata": {
    "pycharm": {
     "name": "#%%\n"
    }
   },
   "outputs": [],
   "source": [
    "from collections import Counter, defaultdict\n",
    "\n",
    "categories_sets = Counter(outfits_category.categories_sorted.values)\n",
    "toy_model = {\n",
    "    \"items_metadata\": items_metadata,\n",
    "    \"categories_sets\": categories_sets\n",
    "}"
   ]
  },
  {
   "cell_type": "markdown",
   "metadata": {
    "pycharm": {
     "name": "#%% md\n"
    }
   },
   "source": [
    "# Predict - Using the category sets to rank the candidates"
   ]
  },
  {
   "cell_type": "markdown",
   "metadata": {
    "pycharm": {
     "name": "#%% md\n"
    }
   },
   "source": [
    "### Use the file name generatad by evaluation/simple_split_dataset.ipynb here"
   ]
  },
  {
   "cell_type": "code",
   "execution_count": 10,
   "metadata": {
    "pycharm": {
     "name": "#%%\n"
    }
   },
   "outputs": [],
   "source": [
    "incomplete_outfits_input = \"../data/manual_outfits_testinput_1651692691.parquet\""
   ]
  },
  {
   "cell_type": "code",
   "execution_count": 11,
   "metadata": {
    "pycharm": {
     "name": "#%%\n"
    }
   },
   "outputs": [
    {
     "data": {
      "text/plain": "   outfit_id                                  incomplete_outfit  \\\n0          0           [16260894, 15360881, 15781925, 16204075]   \n1          1  [15426616, 16035469, 18218977, 13893721, 13893...   \n2          2           [17484491, 16160567, 17503108, 13508028]   \n3          3           [17040752, 18205465, 16127776, 18203427]   \n7          7                     [13990742, 14371345, 16487493]   \n\n                                          candidates  \n0  [16953540, 15843277, 16639054, 18203407, 17243...  \n1  [16359488, 18006145, 17565154, 17236069, 16666...  \n2  [16674563, 15180164, 16938764, 16917773, 18144...  \n3  [17425028, 16709508, 17220615, 16115468, 16631...  \n7  [18149250, 16299400, 17524105, 17168907, 17305...  ",
      "text/html": "<div>\n<style scoped>\n    .dataframe tbody tr th:only-of-type {\n        vertical-align: middle;\n    }\n\n    .dataframe tbody tr th {\n        vertical-align: top;\n    }\n\n    .dataframe thead th {\n        text-align: right;\n    }\n</style>\n<table border=\"1\" class=\"dataframe\">\n  <thead>\n    <tr style=\"text-align: right;\">\n      <th></th>\n      <th>outfit_id</th>\n      <th>incomplete_outfit</th>\n      <th>candidates</th>\n    </tr>\n  </thead>\n  <tbody>\n    <tr>\n      <th>0</th>\n      <td>0</td>\n      <td>[16260894, 15360881, 15781925, 16204075]</td>\n      <td>[16953540, 15843277, 16639054, 18203407, 17243...</td>\n    </tr>\n    <tr>\n      <th>1</th>\n      <td>1</td>\n      <td>[15426616, 16035469, 18218977, 13893721, 13893...</td>\n      <td>[16359488, 18006145, 17565154, 17236069, 16666...</td>\n    </tr>\n    <tr>\n      <th>2</th>\n      <td>2</td>\n      <td>[17484491, 16160567, 17503108, 13508028]</td>\n      <td>[16674563, 15180164, 16938764, 16917773, 18144...</td>\n    </tr>\n    <tr>\n      <th>3</th>\n      <td>3</td>\n      <td>[17040752, 18205465, 16127776, 18203427]</td>\n      <td>[17425028, 16709508, 17220615, 16115468, 16631...</td>\n    </tr>\n    <tr>\n      <th>7</th>\n      <td>7</td>\n      <td>[13990742, 14371345, 16487493]</td>\n      <td>[18149250, 16299400, 17524105, 17168907, 17305...</td>\n    </tr>\n  </tbody>\n</table>\n</div>"
     },
     "execution_count": 11,
     "metadata": {},
     "output_type": "execute_result"
    }
   ],
   "source": [
    "test_outfits = pd.read_parquet(incomplete_outfits_input)\n",
    "test_outfits.head()"
   ]
  },
  {
   "cell_type": "code",
   "execution_count": 12,
   "metadata": {
    "pycharm": {
     "name": "#%%\n"
    }
   },
   "outputs": [
    {
     "data": {
      "text/plain": "   outfit_id                                  incomplete_outfit  \\\n0          0           [16260894, 15360881, 15781925, 16204075]   \n1          1  [15426616, 16035469, 18218977, 13893721, 13893...   \n2          2           [17484491, 16160567, 17503108, 13508028]   \n3          3           [17040752, 18205465, 16127776, 18203427]   \n7          7                     [13990742, 14371345, 16487493]   \n\n                                          candidates  \\\n0  [16953540, 15843277, 16639054, 18203407, 17243...   \n1  [16359488, 18006145, 17565154, 17236069, 16666...   \n2  [16674563, 15180164, 16938764, 16917773, 18144...   \n3  [17425028, 16709508, 17220615, 16115468, 16631...   \n7  [18149250, 16299400, 17524105, 17168907, 17305...   \n\n                                  predicted_products  predicted_product  \n0  [18203407, 18057462, 18012827, 17803125, 17534...           18203407  \n1  [18292694, 18217074, 18006145, 17793979, 17715...           18292694  \n2  [18361594, 18325923, 18219660, 18144908, 18111...           18361594  \n3  [17784236, 17754878, 17538910, 17425028, 17220...           17784236  \n7  [18149250, 17996819, 17524105, 17449640, 17389...           18149250  ",
      "text/html": "<div>\n<style scoped>\n    .dataframe tbody tr th:only-of-type {\n        vertical-align: middle;\n    }\n\n    .dataframe tbody tr th {\n        vertical-align: top;\n    }\n\n    .dataframe thead th {\n        text-align: right;\n    }\n</style>\n<table border=\"1\" class=\"dataframe\">\n  <thead>\n    <tr style=\"text-align: right;\">\n      <th></th>\n      <th>outfit_id</th>\n      <th>incomplete_outfit</th>\n      <th>candidates</th>\n      <th>predicted_products</th>\n      <th>predicted_product</th>\n    </tr>\n  </thead>\n  <tbody>\n    <tr>\n      <th>0</th>\n      <td>0</td>\n      <td>[16260894, 15360881, 15781925, 16204075]</td>\n      <td>[16953540, 15843277, 16639054, 18203407, 17243...</td>\n      <td>[18203407, 18057462, 18012827, 17803125, 17534...</td>\n      <td>18203407</td>\n    </tr>\n    <tr>\n      <th>1</th>\n      <td>1</td>\n      <td>[15426616, 16035469, 18218977, 13893721, 13893...</td>\n      <td>[16359488, 18006145, 17565154, 17236069, 16666...</td>\n      <td>[18292694, 18217074, 18006145, 17793979, 17715...</td>\n      <td>18292694</td>\n    </tr>\n    <tr>\n      <th>2</th>\n      <td>2</td>\n      <td>[17484491, 16160567, 17503108, 13508028]</td>\n      <td>[16674563, 15180164, 16938764, 16917773, 18144...</td>\n      <td>[18361594, 18325923, 18219660, 18144908, 18111...</td>\n      <td>18361594</td>\n    </tr>\n    <tr>\n      <th>3</th>\n      <td>3</td>\n      <td>[17040752, 18205465, 16127776, 18203427]</td>\n      <td>[17425028, 16709508, 17220615, 16115468, 16631...</td>\n      <td>[17784236, 17754878, 17538910, 17425028, 17220...</td>\n      <td>17784236</td>\n    </tr>\n    <tr>\n      <th>7</th>\n      <td>7</td>\n      <td>[13990742, 14371345, 16487493]</td>\n      <td>[18149250, 16299400, 17524105, 17168907, 17305...</td>\n      <td>[18149250, 17996819, 17524105, 17449640, 17389...</td>\n      <td>18149250</td>\n    </tr>\n  </tbody>\n</table>\n</div>"
     },
     "execution_count": 12,
     "metadata": {},
     "output_type": "execute_result"
    }
   ],
   "source": [
    "def predict(model, incomplete_outfit, candidates):\n",
    "    \"\"\"\n",
    "    This is the core of your model. In our example, we are going to use the toy model we build in the first part \n",
    "    of this notebook, but you are free to create your amazing model and use it here.\n",
    "    Arguments:\n",
    "        model: the outfits model\n",
    "        incomplete_outfit: a list of product_id containing the outfit we want to complete\n",
    "        candidates: a list of product_id that you are tasked to select the rigth product to complete the outfit\n",
    "    Return\n",
    "        A list of product_id sorted according your model\n",
    "    \"\"\"\n",
    "    scores = []\n",
    "    for candidate in candidates:\n",
    "        outfit = incomplete_outfit + [candidate]\n",
    "        try:\n",
    "            categories = model[\"items_metadata\"].loc[outfit][\"product_category\"].tolist()\n",
    "            score = model[\"categories_sets\"].get(frozenset(categories), 0)\n",
    "        except KeyError:\n",
    "            score = 0\n",
    "        scores.append((score, candidate))\n",
    "    return [\n",
    "        candidate\n",
    "        for _, candidate in sorted(scores, reverse=True)\n",
    "    ]\n",
    "\n",
    "test_outfits[\"predicted_products\"] = test_outfits.apply(lambda row: predict(toy_model, row[\"incomplete_outfit\"], row[\"candidates\"]), axis=1)\n",
    "test_outfits[\"predicted_product\"] = test_outfits.apply(lambda row: row[\"predicted_products\"][0], axis=1)\n",
    "test_outfits.head()"
   ]
  },
  {
   "cell_type": "code",
   "execution_count": 13,
   "metadata": {
    "pycharm": {
     "name": "#%%\n"
    }
   },
   "outputs": [],
   "source": [
    "output_name = incomplete_outfits_input.replace(\".parquet\", \"_predictions.csv\")\n",
    "output_columns = [\"outfit_id\", \"predicted_product\"]\n",
    "test_outfits[output_columns].to_csv(output_name, header=True, index=False)"
   ]
  },
  {
   "cell_type": "code",
   "execution_count": 14,
   "outputs": [
    {
     "name": "stdout",
     "output_type": "stream",
     "text": [
      "2022-05-05 12:31:14.578037\n"
     ]
    }
   ],
   "source": [
    "print(datetime.datetime.now())"
   ],
   "metadata": {
    "collapsed": false,
    "pycharm": {
     "name": "#%%\n"
    }
   }
  }
 ],
 "metadata": {
  "hide_input": false,
  "kernelspec": {
   "display_name": "Python 3 (ipykernel)",
   "language": "python",
   "name": "python3"
  },
  "language_info": {
   "codemirror_mode": {
    "name": "ipython",
    "version": 3
   },
   "file_extension": ".py",
   "mimetype": "text/x-python",
   "name": "python",
   "nbconvert_exporter": "python",
   "pygments_lexer": "ipython3",
   "version": "3.8.0"
  }
 },
 "nbformat": 4,
 "nbformat_minor": 4
}